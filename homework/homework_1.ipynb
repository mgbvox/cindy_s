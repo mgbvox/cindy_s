{
 "cells": [
  {
   "cell_type": "code",
   "execution_count": 18,
   "metadata": {},
   "outputs": [
    {
     "name": "stdout",
     "output_type": "stream",
     "text": [
      "Populating the interactive namespace from numpy and matplotlib\n"
     ]
    }
   ],
   "source": [
    "%pylab inline"
   ]
  },
  {
   "cell_type": "markdown",
   "metadata": {},
   "source": [
    "# Homework One: Chapters 0-6"
   ]
  },
  {
   "cell_type": "markdown",
   "metadata": {},
   "source": [
    "#### Standard Note Values\n",
    "Most note lenghths in western notation are powers of two - half notes\n",
    "are two beats (2^1), a sixteenth note is one quarter of a beat (2^-2), \n",
    "and so on. It will be useful, then, when analyzing midi data, to be able \n",
    "to ascertain which note lenghths (i.e. powers of two) to assign to a given MIDI duration.\n",
    "\n",
    "## Question 1\n",
    "A. In the space below, write a for loop (non-list comprehension) that appends the powers of two between 2^-10 and 2^10 to a list, then print the list."
   ]
  },
  {
   "cell_type": "code",
   "execution_count": 34,
   "metadata": {},
   "outputs": [
    {
     "name": "stdout",
     "output_type": "stream",
     "text": [
      "[0.0009765625, 0.001953125, 0.00390625, 0.0078125, 0.015625, 0.03125, 0.0625, 0.125, 0.25, 0.5, 1, 2, 4, 8, 16, 32, 64, 128, 256, 512, 1024]\n"
     ]
    }
   ],
   "source": [
    "###Code here:\n",
    "\n",
    "l = []\n",
    "\n",
    "for i in range(-10,11):\n",
    "    n = 2**i\n",
    "    l.append(n)\n",
    "    #print(i,'2**{}'.format(i),n,l)\n",
    "\n",
    "print(l)\n"
   ]
  },
  {
   "cell_type": "markdown",
   "metadata": {},
   "source": [
    "B) Now do the same thing, as a list comprehension:"
   ]
  },
  {
   "cell_type": "code",
   "execution_count": 35,
   "metadata": {},
   "outputs": [
    {
     "name": "stdout",
     "output_type": "stream",
     "text": [
      "[0.0009765625, 0.001953125, 0.00390625, 0.0078125, 0.015625, 0.03125, 0.0625, 0.125, 0.25, 0.5, 1, 2, 4, 8, 16, 32, 64, 128, 256, 512, 1024]\n"
     ]
    }
   ],
   "source": [
    "###Code here:\n",
    "\n",
    "l = [2**i for i in range(-10,11)]\n",
    "print(l)"
   ]
  },
  {
   "cell_type": "markdown",
   "metadata": {},
   "source": [
    "## Question 2:\n",
    "\n",
    "A) There are 12 degrees in an equal-tempered chromatic scale.\n",
    "Using the following dictionary, I've mapped the integer value of each degree to its corresponding note name in the key of C. The array (list) 'int_melody' contains a randomly generated sequence of degree values; using a list comprehension, translate each value to its note name (A,B,C,etc)."
   ]
  },
  {
   "cell_type": "code",
   "execution_count": 37,
   "metadata": {},
   "outputs": [
    {
     "name": "stdout",
     "output_type": "stream",
     "text": [
      "[9. 6. 8. 2. 8. 5. 0. 6. 1. 2.]\n"
     ]
    },
    {
     "data": {
      "text/plain": [
       "['A', 'F#', 'G#', 'D', 'G#', 'F', 'C', 'F#', 'C#', 'D']"
      ]
     },
     "execution_count": 37,
     "metadata": {},
     "output_type": "execute_result"
    }
   ],
   "source": [
    "import numpy \n",
    "\n",
    "degree_map = {0:'C',1:'C#',2:'D',3:'D#',4:'E',5:'F',6:'F#',7:'G',8:'G#',9:'A',10:'A#',11:'B'}\n",
    "\n",
    "melody_length = 10\n",
    "int_melody = np.floor(np.random.random(melody_length)*12)\n",
    "\n",
    "### CODE BELOW ###\n",
    "\n",
    "print(int_melody)\n",
    "[degree_map[i] for i in int_melody]\n",
    "\n"
   ]
  },
  {
   "cell_type": "markdown",
   "metadata": {},
   "source": [
    "## Question 3:\n",
    "A common practice among composers is to encode messages into their music. Bach, for example, famously wrote his name into several of his pieces. The following cell builds a dictionary that maps each letter in the alphabet to its numerical position (A = 0, B = 1, C = 2, etc). I've randomly translated a couple characters to illustrate this. Run the following cell to store the dict in memory, and I'll meet you on the other side."
   ]
  },
  {
   "cell_type": "code",
   "execution_count": 52,
   "metadata": {},
   "outputs": [
    {
     "name": "stdout",
     "output_type": "stream",
     "text": [
      "u -> 20\n",
      "j -> 9\n",
      "t -> 19\n",
      "c -> 2\n",
      "r -> 17\n"
     ]
    }
   ],
   "source": [
    "import string\n",
    "\n",
    "alphabet = list(string.ascii_lowercase)\n",
    "alpha_to_int = dict([list(reversed(i)) for i in enumerate(alphabet)])\n",
    "for c in np.random.choice(alphabet,5,replace=False):\n",
    "    print(c,'->',alpha_to_int[c])"
   ]
  },
  {
   "cell_type": "markdown",
   "metadata": {},
   "source": [
    "This is all fine, but we run into a problem: there aren't 26 notes in the musical scale. There's luckily a quick fix from this: the modulo operator (https://en.wikipedia.org/wiki/Modulo_operation). In python, that's represented by the **%** symbol. Essentially, the modulo gives you the remainder after performing integer division on a number - 6%3 = 0 because 6/3 is 2 exactly; 6%4 == 2, however, since 6/4 is 1 remainder 2. 100%3 = 1 for the same reason. Another way to look at modulo, though, is as a way to cyclically map an ascending sequence onto a set range of numbers... like our friend the chromatic scale from question 2!\n",
    "\n",
    "We've got twelve notes to work with, but twenty six letters. A-L are fine (that's 0-11), but how do we deal with M? Simple: M is 12, which isn't in our degree_map dict, but 12%12=0 is! Therefore M would map to 0 would map to the note C. N is likewise 13, which maps to 13%12 = 1, which maps to... C#!\n",
    "\n",
    "A) Let's implement this. The variable we created above, 'alphabet,' is a list. Using a list comprehension and alpha_to_int, map each letter in the alphabet list to its corresponding number (ignoring modulo for now!), and call the resulting list 'alpha_int_list.'"
   ]
  },
  {
   "cell_type": "code",
   "execution_count": 54,
   "metadata": {},
   "outputs": [],
   "source": [
    "### CODE HERE ###"
   ]
  },
  {
   "cell_type": "markdown",
   "metadata": {},
   "source": [
    "B) Great! Now, let's start modding. In a for loop, go through each number in alpha_int_list, and if it's >= 12, mod it so it's between 0-12. Store that in a variable called 'n_mod'. Then, translate that number to a note value using degree_map, and print it."
   ]
  },
  {
   "cell_type": "code",
   "execution_count": 55,
   "metadata": {},
   "outputs": [],
   "source": [
    "### CODE HERE ###"
   ]
  },
  {
   "cell_type": "markdown",
   "metadata": {},
   "source": [
    "We're almost there!\n",
    "\n",
    "C) The input() function allows us to take user text input and do stuff with it. We can cast that to a list, and iterate through it to encode our message! Write code that takes a message to encode (**use all lowercase letters in your input**), and translates each letter to a scale note.\n",
    "\n",
    "If you're feeling really ambitious: it's possible to do this in a single line with a list comprehension and a bunch of nested dictionaries... just note that the syntax is suuuuuuuper crazy."
   ]
  },
  {
   "cell_type": "code",
   "execution_count": 62,
   "metadata": {},
   "outputs": [
    {
     "name": "stdin",
     "output_type": "stream",
     "text": [
      "Type a message to encode: adf\n"
     ]
    }
   ],
   "source": [
    "message = list(input('Type a message to encode:'))\n",
    "\n",
    "### CODE HERE ###"
   ]
  },
  {
   "cell_type": "markdown",
   "metadata": {},
   "source": [
    "### If you made it this far, congratulations! If not, that's totally fine. Take notes, and we'll go over everything in our next session."
   ]
  }
 ],
 "metadata": {
  "kernelspec": {
   "display_name": "Python 2",
   "language": "python",
   "name": "python2"
  },
  "language_info": {
   "codemirror_mode": {
    "name": "ipython",
    "version": 2
   },
   "file_extension": ".py",
   "mimetype": "text/x-python",
   "name": "python",
   "nbconvert_exporter": "python",
   "pygments_lexer": "ipython2",
   "version": "2.7.15"
  }
 },
 "nbformat": 4,
 "nbformat_minor": 2
}
