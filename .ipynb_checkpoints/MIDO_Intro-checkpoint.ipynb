{
 "cells": [
  {
   "cell_type": "code",
   "execution_count": 7,
   "metadata": {},
   "outputs": [],
   "source": [
    "import numpy as np\n",
    "import matplotlib.pyplot as plt\n",
    "\n",
    "import mido\n",
    "from mido import Message, MidiFile, MidiTrack\n",
    "import pygame\n",
    "import midi_utils\n",
    "from midi_utils import play_music"
   ]
  },
  {
   "cell_type": "code",
   "execution_count": 8,
   "metadata": {},
   "outputs": [],
   "source": [
    "def write_track(head, messages, end):\n",
    "    track = MidiTrack()\n",
    "    for msg in head:\n",
    "        track.append(msg)\n",
    "    for msg in messages:\n",
    "        track.append(msg)\n",
    "    #track.append(end)\n",
    "    return track\n",
    "\n",
    "def write_midi(*tracks, name='out.mid'):\n",
    "    mid = MidiFile()\n",
    "    for track in tracks:\n",
    "        mid.tracks.append(track)\n",
    "    mid.save(name)\n",
    "    \n",
    "def play_music_with_exit(music_file):\n",
    "    try:\n",
    "        play_music(music_file)\n",
    "    except KeyboardInterrupt:\n",
    "        # if user hits Ctrl/C then exit\n",
    "        # (works only in console mode)\n",
    "        pygame.mixer.music.fadeout(1000)\n",
    "        pygame.mixer.music.stop()\n",
    "        raise SystemExit\n",
    "        \n",
    "def nearest(myNumber, myList):\n",
    "    return min(myList, key=lambda x:abs(x-myNumber))"
   ]
  },
  {
   "cell_type": "code",
   "execution_count": 9,
   "metadata": {},
   "outputs": [],
   "source": [
    "#From https://stackoverflow.com/a/21894086\n",
    "class bidict(dict):\n",
    "    def __init__(self, *args, **kwargs):\n",
    "        super(bidict, self).__init__(*args, **kwargs)\n",
    "        self.inverse = {}\n",
    "        for key, value in self.items():\n",
    "            self.inverse.setdefault(value,[]).append(key) \n",
    "\n",
    "    def __setitem__(self, key, value):\n",
    "        if key in self:\n",
    "            self.inverse[self[key]].remove(key) \n",
    "        super(bidict, self).__setitem__(key, value)\n",
    "        self.inverse.setdefault(value,[]).append(key)        \n",
    "\n",
    "    def __delitem__(self, key):\n",
    "        self.inverse.setdefault(self[key],[]).remove(key)\n",
    "        if self[key] in self.inverse and not self.inverse[self[key]]: \n",
    "            del self.inverse[self[key]]\n",
    "        super(bidict, self).__delitem__(key)"
   ]
  },
  {
   "cell_type": "code",
   "execution_count": null,
   "metadata": {},
   "outputs": [],
   "source": []
  },
  {
   "cell_type": "code",
   "execution_count": null,
   "metadata": {},
   "outputs": [],
   "source": []
  },
  {
   "cell_type": "code",
   "execution_count": 10,
   "metadata": {},
   "outputs": [],
   "source": [
    "midi_file = 'wolves.mid'\n",
    "mid = mido.MidiFile('wolves.mid')\n",
    "track = mid.tracks[1]\n",
    "\n",
    "note_idxs = [i for i,msg in enumerate(track) if 'note' in dir(msg) and not msg.is_meta]\n",
    "first_note_idx = note_idxs[0]\n",
    "last_note_idx = note_idxs[-1]\n",
    "\n",
    "head = track[:first_note_idx]\n",
    "body = track[first_note_idx:last_note_idx+1]\n",
    "end = track[last_note_idx+1:]\n",
    "\n",
    "final_track = MidiTrack(head+body+end)\n",
    "\n",
    "\n",
    "out_mid = MidiFile()\n",
    "out_mid.tracks.append(final_track)\n",
    "\n",
    "out_mid.save('test.mid')"
   ]
  },
  {
   "cell_type": "code",
   "execution_count": 13,
   "metadata": {},
   "outputs": [
    {
     "name": "stdout",
     "output_type": "stream",
     "text": [
      "Music file wolves.mid loaded!\n"
     ]
    },
    {
     "ename": "KeyboardInterrupt",
     "evalue": "",
     "output_type": "error",
     "traceback": [
      "\u001b[0;31m---------------------------------------------------------------------------\u001b[0m",
      "\u001b[0;31mKeyboardInterrupt\u001b[0m                         Traceback (most recent call last)",
      "\u001b[0;32m<ipython-input-13-0eb6530ea59f>\u001b[0m in \u001b[0;36m<module>\u001b[0;34m\u001b[0m\n\u001b[0;32m----> 1\u001b[0;31m \u001b[0mplay_music\u001b[0m\u001b[0;34m(\u001b[0m\u001b[0;34m'wolves.mid'\u001b[0m\u001b[0;34m)\u001b[0m\u001b[0;34m\u001b[0m\u001b[0;34m\u001b[0m\u001b[0m\n\u001b[0m",
      "\u001b[0;32m/Volumes/STORAGE 3TB/Wyzant/clients/cindy_s/midi_utils.py\u001b[0m in \u001b[0;36mplay_music\u001b[0;34m(music_file)\u001b[0m\n\u001b[1;32m     32\u001b[0m     \u001b[0;32mwhile\u001b[0m \u001b[0mpygame\u001b[0m\u001b[0;34m.\u001b[0m\u001b[0mmixer\u001b[0m\u001b[0;34m.\u001b[0m\u001b[0mmusic\u001b[0m\u001b[0;34m.\u001b[0m\u001b[0mget_busy\u001b[0m\u001b[0;34m(\u001b[0m\u001b[0;34m)\u001b[0m\u001b[0;34m:\u001b[0m\u001b[0;34m\u001b[0m\u001b[0;34m\u001b[0m\u001b[0m\n\u001b[1;32m     33\u001b[0m         \u001b[0;31m# check if playback has finished\u001b[0m\u001b[0;34m\u001b[0m\u001b[0;34m\u001b[0m\u001b[0;34m\u001b[0m\u001b[0m\n\u001b[0;32m---> 34\u001b[0;31m         \u001b[0mclock\u001b[0m\u001b[0;34m.\u001b[0m\u001b[0mtick\u001b[0m\u001b[0;34m(\u001b[0m\u001b[0;36m30\u001b[0m\u001b[0;34m)\u001b[0m\u001b[0;34m\u001b[0m\u001b[0;34m\u001b[0m\u001b[0m\n\u001b[0m\u001b[1;32m     35\u001b[0m \u001b[0;31m# pick a midi music file you have ...\u001b[0m\u001b[0;34m\u001b[0m\u001b[0;34m\u001b[0m\u001b[0;34m\u001b[0m\u001b[0m\n\u001b[1;32m     36\u001b[0m \u001b[0;31m# (if not in working folder use full path)\u001b[0m\u001b[0;34m\u001b[0m\u001b[0;34m\u001b[0m\u001b[0;34m\u001b[0m\u001b[0m\n",
      "\u001b[0;31mKeyboardInterrupt\u001b[0m: "
     ]
    }
   ],
   "source": [
    "play_music('wolves.mid')"
   ]
  },
  {
   "cell_type": "code",
   "execution_count": 5,
   "metadata": {},
   "outputs": [],
   "source": [
    "#def get_length_notation(n):"
   ]
  },
  {
   "cell_type": "code",
   "execution_count": 6,
   "metadata": {},
   "outputs": [
    {
     "name": "stdout",
     "output_type": "stream",
     "text": [
      "62 | REST | 0 | \n",
      "62 | D0 | 2 | 1.0\n",
      "62 |  |  | \n",
      "59 |  |  | \n",
      "59 | B-1 | .11 | 1.0\n",
      "59 |  |  | \n",
      "62 |  |  | \n",
      "62 | D0 | 2 | 2.0\n",
      "62 |  |  | \n",
      "66 |  |  | \n",
      "66 | F#0 | 6 | 1.0\n",
      "66 |  |  | \n",
      "59 |  |  | \n",
      "59 | B-1 | .11 | 1.0\n",
      "59 |  |  | \n"
     ]
    }
   ],
   "source": [
    "note_vals = [0]+[1/(2**i) for i in range(-8,3)]\n",
    "\n",
    "expanded = set()\n",
    "for i,v in enumerate(note_vals):\n",
    "    for n_dots in range(len(note_vals)-i):\n",
    "        expanded.add(sum(note_vals[i:i+n_dots+1]))\n",
    "vals_with_dots = sorted(list(expanded))\n",
    "\n",
    "tonic = 60\n",
    "degree_map = bidict({0:'C',1:'C#',2:'D',3:'D#',4:'E',5:'F',6:'F#',7:'G',8:'G#',9:'A',10:'A#',11:'B'})\n",
    "\n",
    "\n",
    "for i,msg in enumerate(body[:10]):\n",
    "    \n",
    "    msg_len = msg.time/mid.ticks_per_beat\n",
    "\n",
    "    notation_value = nearest(msg_len,vals_with_dots)\n",
    "    \n",
    "    note = msg.note\n",
    "    \n",
    "    delta = note-tonic\n",
    "    \n",
    "    degree = delta%12\n",
    "    \n",
    "    octave = 0\n",
    "    \n",
    "    #Pesky fencepost problem that comes from shifting negatives down by one.\n",
    "    if delta == -1:\n",
    "        octave = -1\n",
    "    \n",
    "    #Shift negatives down by one.\n",
    "    elif delta < -1:\n",
    "        octave = int((delta+1)/12)-1\n",
    "    #Otherwise just take the floor of delta divided by number of semitones in a scale to get octave.\n",
    "    else:\n",
    "        octave = int((delta)/12)\n",
    "    \n",
    "    \n",
    "    '''PRINTING!'''\n",
    "    #To print:\n",
    "    midi_note_value = note\n",
    "    letter_octave_notation = ''\n",
    "    numbered_do_with_octave_dots = ''\n",
    "    numerical_length_notation = ''\n",
    "    \n",
    "    \n",
    "    #MIDI Pattern appears to be alternating REST - NOTE; ergo, alternate printing values.\n",
    "    if i%2 == 0:\n",
    "        if notation_value > 0:\n",
    "            #print(note, '|', 'REST', '|', '0', '|', notation_value)\n",
    "            letter_octave_notation = 'REST'\n",
    "            numbered_do_with_octave_dots = '0'\n",
    "            \n",
    "    else:\n",
    "        if octave < 0:\n",
    "            print(note, '|', degree_map[degree]+str(octave), '|', \n",
    "                  ''.join(['.']*abs(octave))+str(degree), '|',notation_value)\n",
    "        else:\n",
    "            print(note, '|', degree_map[degree]+str(octave), '|', \n",
    "                  str(degree)+''.join(['.']*abs(octave)), '|',notation_value)\n",
    "        \n",
    "    print(midi_note_value, '|',\n",
    "          letter_octave_notation, '|',\n",
    "          numbered_do_with_octave_dots, '|',\n",
    "          numerical_length_notation)"
   ]
  },
  {
   "cell_type": "code",
   "execution_count": 64,
   "metadata": {},
   "outputs": [
    {
     "data": {
      "text/plain": [
       "-1"
      ]
     },
     "execution_count": 64,
     "metadata": {},
     "output_type": "execute_result"
    }
   ],
   "source": [
    "octave"
   ]
  },
  {
   "cell_type": "code",
   "execution_count": 85,
   "metadata": {},
   "outputs": [
    {
     "name": "stdout",
     "output_type": "stream",
     "text": [
      "{0: 'B', 1: 'C', 2: 'C#', 3: 'D', 4: 'D#', 5: 'E', 6: 'F', 7: 'F#', 8: 'G', 9: 'G#', 10: 'A', 11: 'A#'}\n",
      "71\n"
     ]
    }
   ],
   "source": [
    "import copy\n",
    "\n",
    "tonic = 60\n",
    "degree_map = bidict({0:'C',1:'C#',2:'D',3:'D#',4:'E',5:'F',6:'F#',7:'G',8:'G#',9:'A',10:'A#',11:'B'})\n",
    "\n",
    "new_degree_map = copy.copy(degree_map)\n",
    "\n",
    "new_key = 'B'\n",
    "new_tonic = tonic+degree_map.inverse[new_key][0]\n",
    "\n",
    "for k,v in degree_map.items():\n",
    "    new_degree_map[(k-degree_map.inverse[new_key][0])%12] = v\n",
    "\n",
    "print(new_degree_map)\n",
    "print(new_tonic)"
   ]
  },
  {
   "cell_type": "code",
   "execution_count": 54,
   "metadata": {},
   "outputs": [
    {
     "data": {
      "text/plain": [
       "66"
      ]
     },
     "execution_count": 54,
     "metadata": {},
     "output_type": "execute_result"
    }
   ],
   "source": []
  },
  {
   "cell_type": "code",
   "execution_count": 86,
   "metadata": {},
   "outputs": [
    {
     "data": {
      "text/plain": [
       "['0']"
      ]
     },
     "execution_count": 86,
     "metadata": {},
     "output_type": "execute_result"
    }
   ],
   "source": [
    "test = bidict()\n",
    "test['0'] = 'Poop'\n",
    "test.inverse['Poop']"
   ]
  },
  {
   "cell_type": "code",
   "execution_count": 89,
   "metadata": {},
   "outputs": [],
   "source": [
    "import math\n",
    "from math import log2"
   ]
  },
  {
   "cell_type": "code",
   "execution_count": 101,
   "metadata": {},
   "outputs": [
    {
     "data": {
      "text/plain": [
       "'_ _ _ '"
      ]
     },
     "execution_count": 101,
     "metadata": {},
     "output_type": "execute_result"
    }
   ],
   "source": [
    "'_ '*3"
   ]
  },
  {
   "cell_type": "code",
   "execution_count": 99,
   "metadata": {},
   "outputs": [
    {
     "name": "stdout",
     "output_type": "stream",
     "text": [
      "64.0 \n",
      "96.0 \n",
      "112.0 \n",
      "120.0 \n",
      "124.0 \n",
      "126.0 \n",
      "127.0 \n",
      "127.5 \n",
      "127.75 \n",
      "127.875 \n",
      "127.875 \n",
      "32.0 \n",
      "48.0 \n",
      "56.0 \n",
      "60.0 \n",
      "62.0 \n",
      "63.0 \n",
      "63.5 \n",
      "63.75 \n",
      "63.875 \n",
      "63.875 \n",
      "16.0 \n",
      "24.0 \n",
      "28.0 \n",
      "30.0 \n",
      "31.0 \n",
      "31.5 \n",
      "31.75 \n",
      "31.875 \n",
      "31.875 \n",
      "8.0 \n",
      "12.0 \n",
      "14.0 \n",
      "15.0 \n",
      "15.5 \n",
      "15.75 \n",
      "15.875 \n",
      "15.875 \n",
      "4.0 \n",
      "6.0 \n",
      "7.0 \n",
      "7.5 \n",
      "7.75 \n",
      "7.875 \n",
      "7.875 \n",
      "2.0 \n",
      "3.0 \n",
      "3.5 \n",
      "3.75 \n",
      "3.875 \n",
      "3.875 \n",
      "1.0 \n",
      "1.5 \n",
      "1.75 \n",
      "1.875 \n",
      "1.875 \n"
     ]
    },
    {
     "ename": "TypeError",
     "evalue": "can't multiply sequence by non-int of type 'float'",
     "output_type": "error",
     "traceback": [
      "\u001b[0;31m---------------------------------------------------------------------------\u001b[0m",
      "\u001b[0;31mTypeError\u001b[0m                                 Traceback (most recent call last)",
      "\u001b[0;32m<ipython-input-99-6e3ac0b820a1>\u001b[0m in \u001b[0;36m<module>\u001b[0;34m\u001b[0m\n\u001b[1;32m     18\u001b[0m             \u001b[0mn_underlines\u001b[0m \u001b[0;34m=\u001b[0m \u001b[0mabs\u001b[0m\u001b[0;34m(\u001b[0m\u001b[0mlog2\u001b[0m\u001b[0;34m(\u001b[0m\u001b[0mv\u001b[0m\u001b[0;34m)\u001b[0m\u001b[0;34m)\u001b[0m\u001b[0;34m\u001b[0m\u001b[0;34m\u001b[0m\u001b[0m\n\u001b[1;32m     19\u001b[0m \u001b[0;34m\u001b[0m\u001b[0m\n\u001b[0;32m---> 20\u001b[0;31m         \u001b[0mprint\u001b[0m\u001b[0;34m(\u001b[0m\u001b[0mdot_len\u001b[0m\u001b[0;34m,\u001b[0m \u001b[0;34m'_'\u001b[0m\u001b[0;34m*\u001b[0m\u001b[0mn_underlines\u001b[0m\u001b[0;34m)\u001b[0m\u001b[0;34m\u001b[0m\u001b[0;34m\u001b[0m\u001b[0m\n\u001b[0m\u001b[1;32m     21\u001b[0m \u001b[0;34m\u001b[0m\u001b[0m\n\u001b[1;32m     22\u001b[0m         \u001b[0mexpanded\u001b[0m\u001b[0;34m.\u001b[0m\u001b[0madd\u001b[0m\u001b[0;34m(\u001b[0m\u001b[0mdot_len\u001b[0m\u001b[0;34m)\u001b[0m\u001b[0;34m\u001b[0m\u001b[0;34m\u001b[0m\u001b[0m\n",
      "\u001b[0;31mTypeError\u001b[0m: can't multiply sequence by non-int of type 'float'"
     ]
    }
   ],
   "source": [
    "'''TODO: Figure out how to map all possible dot combos to jianpu.'''\n",
    "\n",
    "len_dict = bidict()\n",
    "\n",
    "vals = sorted([0]+[1/(2**i) for i in range(-6,4)], reverse=True)\n",
    "expanded = set()\n",
    "for i,v in enumerate(vals):\n",
    "    for n_dots in range(len(vals)-i):\n",
    "        dot_len = sum(vals[i:i+n_dots+1])\n",
    "        \n",
    "        n_dashes = 0\n",
    "        n_underlines = 0\n",
    "        n_printed_dots = n_dots\n",
    "        \n",
    "        if v == 0:\n",
    "            len_dict[v] = ''\n",
    "        elif v > 1:\n",
    "            n_dashes = dot_len-1\n",
    "        elif v < 1:\n",
    "            n_underlines = abs(log2(v))\n",
    "        \n",
    "        print(dot_len, '_'*n_underlines)\n",
    "        \n",
    "        expanded.add(dot_len)\n",
    "vals_with_dots = sorted(list(expanded))\n",
    "plt.plot(vals_with_dots)"
   ]
  },
  {
   "cell_type": "code",
   "execution_count": null,
   "metadata": {},
   "outputs": [],
   "source": []
  },
  {
   "cell_type": "code",
   "execution_count": null,
   "metadata": {},
   "outputs": [],
   "source": []
  }
 ],
 "metadata": {
  "kernelspec": {
   "display_name": "Python 3",
   "language": "python",
   "name": "python3"
  },
  "language_info": {
   "codemirror_mode": {
    "name": "ipython",
    "version": 3
   },
   "file_extension": ".py",
   "mimetype": "text/x-python",
   "name": "python",
   "nbconvert_exporter": "python",
   "pygments_lexer": "ipython3",
   "version": "3.6.8"
  }
 },
 "nbformat": 4,
 "nbformat_minor": 2
}
