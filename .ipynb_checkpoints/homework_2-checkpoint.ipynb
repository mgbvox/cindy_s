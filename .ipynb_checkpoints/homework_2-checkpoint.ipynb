{
 "cells": [
  {
   "cell_type": "markdown",
   "metadata": {},
   "source": [
    "# Homework Two: Chapters 0-6 (Continued)"
   ]
  },
  {
   "cell_type": "markdown",
   "metadata": {},
   "source": [
    "This homework will deviate somewhat from music, and focus solely on the fundamentals of the key python data constructs that relate to our MIDI translation project. Specifically, we'll touch on Dictionaries and the Modulo Operator."
   ]
  },
  {
   "cell_type": "code",
   "execution_count": 52,
   "metadata": {},
   "outputs": [],
   "source": [
    "import string\n",
    "import random\n",
    "import numpy as np\n",
    "\n",
    "alphabet = np.array(list(string.ascii_lowercase))\n",
    "caesar_cipher = dict(zip(alphabet,np.random.choice(alphabet,26)))\n",
    "lossy_cipher = dict(zip(alphabet,np.random.choice(np.random.choice(alphabet,15),26,replace=True)))"
   ]
  },
  {
   "cell_type": "markdown",
   "metadata": {},
   "source": [
    "### Dictionaries\n",
    "An early code-making technique was known as [the Caesar Cipher (link)](https://en.wikipedia.org/wiki/Caesar_cipher). At it's core, the Caesar Cipher is a dictionary - it takes an input string, and maps each letter to a different letter in the alphabet. The cell above creates two dictionaries: caesar_cipher, which follows the rule that no letter can be mapped to the same alternate letter, and lossy_cipher, which maps many letters to the same, smaller set. Print them both to see the difference:"
   ]
  },
  {
   "cell_type": "code",
   "execution_count": 56,
   "metadata": {},
   "outputs": [],
   "source": [
    "#----Code Here----\n",
    "\n"
   ]
  },
  {
   "cell_type": "markdown",
   "metadata": {},
   "source": [
    "Let's work with the normal case, caesar_cipher. You may recall from Python: A Crash Course that you can get the value associated with a key in a dictionary by calling **your_dict_variable_name[key_name]**. For example, if I had a dict called 'single_map' that mapped the integer 1 to the word 'one' ({1:'one'}), I'd call:"
   ]
  },
  {
   "cell_type": "code",
   "execution_count": 58,
   "metadata": {},
   "outputs": [
    {
     "name": "stdout",
     "output_type": "stream",
     "text": [
      "one\n"
     ]
    }
   ],
   "source": [
    "single_map = {1:'one'}\n",
    "print(single_map[1])"
   ]
  },
  {
   "cell_type": "markdown",
   "metadata": {},
   "source": [
    "Let's make some codes! Using the input() function (look back at homework_1), input a single character, and use it as the key in our caesar_cipher dictionary to print the associated value:"
   ]
  },
  {
   "cell_type": "code",
   "execution_count": 59,
   "metadata": {},
   "outputs": [],
   "source": [
    "#----Code Here----\n",
    "\n"
   ]
  },
  {
   "cell_type": "markdown",
   "metadata": {},
   "source": [
    "Okay! This is cool, but we don't want to have to input our text one character at a time. Computers excel at doing things really fast"
   ]
  },
  {
   "cell_type": "code",
   "execution_count": 60,
   "metadata": {},
   "outputs": [],
   "source": [
    "import timeit"
   ]
  },
  {
   "cell_type": "code",
   "execution_count": 1,
   "metadata": {},
   "outputs": [
    {
     "ename": "SyntaxError",
     "evalue": "invalid syntax (<unknown>, line 2)",
     "output_type": "error",
     "traceback": [
      "\u001b[0;36m  File \u001b[0;32m\"<unknown>\"\u001b[0;36m, line \u001b[0;32m2\u001b[0m\n\u001b[0;31m    print('done!', end='\\r')\u001b[0m\n\u001b[0m                      ^\u001b[0m\n\u001b[0;31mSyntaxError\u001b[0m\u001b[0;31m:\u001b[0m invalid syntax\n"
     ]
    }
   ],
   "source": [
    "%%time\n",
    "[_ for _ in range(1000000)]\n",
    "print('done!', end='\\r')"
   ]
  },
  {
   "cell_type": "code",
   "execution_count": null,
   "metadata": {},
   "outputs": [],
   "source": []
  }
 ],
 "metadata": {
  "kernelspec": {
   "display_name": "Python 2",
   "language": "python",
   "name": "python2"
  },
  "language_info": {
   "codemirror_mode": {
    "name": "ipython",
    "version": 2
   },
   "file_extension": ".py",
   "mimetype": "text/x-python",
   "name": "python",
   "nbconvert_exporter": "python",
   "pygments_lexer": "ipython2",
   "version": "2.7.15"
  }
 },
 "nbformat": 4,
 "nbformat_minor": 2
}
