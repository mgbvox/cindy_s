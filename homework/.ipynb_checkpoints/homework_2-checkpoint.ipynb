{
 "cells": [
  {
   "cell_type": "markdown",
   "metadata": {},
   "source": [
    "# Homework Two: Chapters 0-6 (Continued)"
   ]
  },
  {
   "cell_type": "markdown",
   "metadata": {},
   "source": [
    "The next two homeworks will deviate somewhat from music, and focus solely on the fundamentals of the key python data constructs that relate to our MIDI translation project. Specifically, we'll touch on Dictionaries and the Modulo Operator. This homework will focus on Dictionaries."
   ]
  },
  {
   "cell_type": "code",
   "execution_count": 1,
   "metadata": {},
   "outputs": [],
   "source": [
    "#Run this cell as-is\n",
    "import string\n",
    "import random\n",
    "import numpy as np\n",
    "\n",
    "alphabet = list(string.ascii_lowercase+' ')\n",
    "shuffled = random.sample(list(string.ascii_lowercase+' '),27)\n",
    "caesar_cipher = dict(zip(alphabet,shuffled))\n",
    "decryptor = dict(zip(shuffled,alphabet))\n",
    "\n",
    "#For bonus-round:\n",
    "lossy_cipher = dict(zip(alphabet,np.random.choice(np.random.choice(alphabet,15),27,replace=True)))"
   ]
  },
  {
   "cell_type": "markdown",
   "metadata": {},
   "source": [
    "### Dictionaries\n",
    "An early code-making technique was known as [the Caesar Cipher (link)](https://en.wikipedia.org/wiki/Caesar_cipher). At it's core, the Caesar Cipher is a dictionary - it takes an input string, and maps each letter to a different letter in the alphabet. The cell above creates three dictionaries: caesar_cipher, which follows the rule that no letter can be mapped to the same alternate letter, decryptor, which maps the code back to the original, and lossy_cipher, which maps many letters to the same, smaller set. Print all three to see the difference:"
   ]
  },
  {
   "cell_type": "code",
   "execution_count": 2,
   "metadata": {},
   "outputs": [
    {
     "name": "stdout",
     "output_type": "stream",
     "text": [
      "{'a': 'v', 'b': 'j', 'c': 'x', 'd': 'o', 'e': ' ', 'f': 'a', 'g': 'z', 'h': 'g', 'i': 'h', 'j': 'i', 'k': 'd', 'l': 'c', 'm': 'u', 'n': 't', 'o': 'l', 'p': 'b', 'q': 'm', 'r': 'y', 's': 's', 't': 'p', 'u': 'e', 'v': 'r', 'w': 'q', 'x': 'k', 'y': 'n', 'z': 'w', ' ': 'f'}\n",
      "{'v': 'a', 'j': 'b', 'x': 'c', 'o': 'd', ' ': 'e', 'a': 'f', 'z': 'g', 'g': 'h', 'h': 'i', 'i': 'j', 'd': 'k', 'c': 'l', 'u': 'm', 't': 'n', 'l': 'o', 'b': 'p', 'm': 'q', 'y': 'r', 's': 's', 'p': 't', 'e': 'u', 'r': 'v', 'q': 'w', 'k': 'x', 'n': 'y', 'w': 'z', 'f': ' '}\n"
     ]
    }
   ],
   "source": [
    "print(caesar_cipher)\n",
    "print(decryptor)"
   ]
  },
  {
   "cell_type": "code",
   "execution_count": 3,
   "metadata": {},
   "outputs": [
    {
     "name": "stdout",
     "output_type": "stream",
     "text": [
      "pghsfhsfvfxlo \n",
      "this is a code\n"
     ]
    }
   ],
   "source": [
    "#----Code Here----\n",
    "code = ''.join([caesar_cipher[i] for i in list('this is a code')])\n",
    "print(code)\n",
    "decoded = ''.join([decryptor[i] for i in list(code)])\n",
    "print(decoded)"
   ]
  },
  {
   "cell_type": "markdown",
   "metadata": {},
   "source": [
    "Let's work with the normal case, caesar_cipher. You may recall from Python: A Crash Course that you can get the value associated with a key in a dictionary by calling **your_dict_variable_name[key_name]**. For example, if I had a dict called 'single_map' that mapped the integer 1 to the word 'one' ({1:'one'}), I'd call:"
   ]
  },
  {
   "cell_type": "code",
   "execution_count": 4,
   "metadata": {},
   "outputs": [
    {
     "name": "stdout",
     "output_type": "stream",
     "text": [
      "one\n"
     ]
    }
   ],
   "source": [
    "single_map = {1:'one'}\n",
    "print(single_map[1])"
   ]
  },
  {
   "cell_type": "markdown",
   "metadata": {},
   "source": [
    "Let's make some codes! Using the input() function (look back at homework_1), input a single character, and use it as the key in our caesar_cipher dictionary to print the associated value:"
   ]
  },
  {
   "cell_type": "code",
   "execution_count": 5,
   "metadata": {},
   "outputs": [],
   "source": [
    "#----Code Here----\n",
    "\n"
   ]
  },
  {
   "cell_type": "markdown",
   "metadata": {},
   "source": [
    "Okay! This is cool, but we don't want to have to input our text one character at a time. Computers excel at doing things really fast - the cell below sums all the numbers from zero to a million in 1/10th of a second (on my computer). Execute it, and meet me on the other side."
   ]
  },
  {
   "cell_type": "code",
   "execution_count": 6,
   "metadata": {},
   "outputs": [
    {
     "name": "stdout",
     "output_type": "stream",
     "text": [
      "CPU times: user 132 ms, sys: 2.6 ms, total: 134 ms\n",
      "Wall time: 135 ms\n"
     ]
    }
   ],
   "source": [
    "%%time\n",
    "acc = 0\n",
    "for i in range(1000000):\n",
    "    acc += i\n",
    "print('', end='\\r')"
   ]
  },
  {
   "cell_type": "markdown",
   "metadata": {},
   "source": [
    "Let's use this speed to encode our own messages. The cell below reads in the complete works of Shakespeare (with some filtering) as one GIANT string. The comments in the following cell will guide you through translating the first section into code using our caesar_cipher dictionary:"
   ]
  },
  {
   "cell_type": "code",
   "execution_count": 7,
   "metadata": {},
   "outputs": [],
   "source": [
    "#Run this as-is\n",
    "with open('cindys_work/assets/shakespeare.txt','r') as f:\n",
    "    txt = f.readlines()\n",
    "    txt = txt[138:]\n",
    "shakespeare = ''.join([c.lower() for c in list(' '.join(txt)) if c.lower() in alphabet]).strip()"
   ]
  },
  {
   "cell_type": "code",
   "execution_count": 8,
   "metadata": {},
   "outputs": [],
   "source": [
    "#'''\n",
    "#First task: grab the first 1000 characters in the shakespeare string, and store it in the variable\n",
    "#'first_section'. Do this using string slicing:\n",
    "#'''\n",
    "#----Code Here----\n",
    "first_section = None #Fix this.\n",
    "\n",
    "#'''\n",
    "#Second task: cast that much-more-manageable string to a list of characters. Call that variable 'chars':\n",
    "#'''\n",
    "#----Code Here----\n",
    "chars = None #Fix this.\n",
    "\n",
    "#'''\n",
    "#Third task: using either a for-loop or a list comprehension, map each letter in the 'chars' list to it's \n",
    "#corresponding cipher letter. Store these sequentially in a list called 'translated':\n",
    "#'''\n",
    "#----Code Here----\n",
    "translated = None #Fix this.\n",
    "\n",
    "\n"
   ]
  },
  {
   "cell_type": "markdown",
   "metadata": {},
   "source": [
    "There is a special string function, ''.join(), that takes whatever string is on the left of the . and uses it to concatenate strings in a list. Observe:"
   ]
  },
  {
   "cell_type": "code",
   "execution_count": 9,
   "metadata": {},
   "outputs": [
    {
     "name": "stdout",
     "output_type": "stream",
     "text": [
      "abc\n",
      "a-b-c\n"
     ]
    }
   ],
   "source": [
    "#Prints abc\n",
    "print(''.join(['a','b','c']))\n",
    "\n",
    "#Prints a-b-c:\n",
    "print('-'.join(['a','b','c']))"
   ]
  },
  {
   "cell_type": "code",
   "execution_count": 10,
   "metadata": {},
   "outputs": [],
   "source": [
    "#'''\n",
    "#Use .join() to take your translated list and turn it back into a string:\n",
    "#'''\n",
    "#----Code Here----\n",
    "\n"
   ]
  },
  {
   "cell_type": "code",
   "execution_count": 11,
   "metadata": {},
   "outputs": [],
   "source": [
    "#'''\n",
    "#Okay! Now, the moment of truth: Use input() to take in your OWN message, and using \n",
    "#variations on the code above, translate and print the coded string!\n",
    "#'''\n",
    "#----Code Here----\n",
    "\n",
    "\n"
   ]
  },
  {
   "cell_type": "markdown",
   "metadata": {},
   "source": [
    "# Bonus Round!"
   ]
  },
  {
   "cell_type": "markdown",
   "metadata": {},
   "source": [
    "You'll notice we also make a lossy_cipher dictionary, which maps multiple letters to the same code letter. However, we didn't make a decryptor dictionary for it. That's because doing so would be impossible (hence the name - lossy). Why can't we? Think about it. Type your answer in the cell below, as a comment:"
   ]
  },
  {
   "cell_type": "code",
   "execution_count": 11,
   "metadata": {},
   "outputs": [
    {
     "data": {
      "text/plain": [
       "'\\nYour answer here:\\n\\n\\n'"
      ]
     },
     "execution_count": 11,
     "metadata": {},
     "output_type": "execute_result"
    }
   ],
   "source": [
    "'''\n",
    "Your answer here:\n",
    "\n",
    "\n",
    "'''"
   ]
  }
 ],
 "metadata": {
  "kernelspec": {
   "display_name": "Python 3",
   "language": "python",
   "name": "python3"
  },
  "language_info": {
   "codemirror_mode": {
    "name": "ipython",
    "version": 3
   },
   "file_extension": ".py",
   "mimetype": "text/x-python",
   "name": "python",
   "nbconvert_exporter": "python",
   "pygments_lexer": "ipython3",
   "version": "3.7.1"
  }
 },
 "nbformat": 4,
 "nbformat_minor": 2
}
